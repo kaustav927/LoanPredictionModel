{
 "cells": [
  {
   "cell_type": "code",
   "execution_count": null,
   "metadata": {},
   "outputs": [],
   "source": [
    "#Data Handling and Manipulation\n",
    "import pandas as pd\n",
    "import numpy as np\n",
    "pd.set_option('display.max_columns', None)  \n",
    "\n",
    "#Statistical Analysis\n",
    "from scipy import stats\n",
    "\n",
    "#Plotting and Visualization\n",
    "import matplotlib.pyplot as plt\n",
    "import matplotlib.pylab as plt\n",
    "plt.rcParams['figure.dpi'] = 120\n",
    "import gmaps\n",
    "!jupyter nbextension enable --py gmaps\n",
    "\n",
    "#Machine Learning\n",
    "from sklearn.preprocessing import MinMaxScaler\n",
    "from keras.models import Sequential\n",
    "from keras.layers import Dense, Dropout\n",
    "from sklearn.model_selection import cross_val_score, train_test_split\n",
    "from sklearn.model_selection import KFold\n",
    "from sklearn.ensemble import RandomForestClassifier"
   ]
  },
  {
   "cell_type": "code",
   "execution_count": null,
   "metadata": {},
   "outputs": [],
   "source": [
    "df_loans = pd.read_csv('Data/customer_loans.csv',sep=',')\n",
    "df_loans.head()"
   ]
  },
  {
   "cell_type": "code",
   "execution_count": null,
   "metadata": {},
   "outputs": [],
   "source": [
    "df_customer = pd.read_csv('Data/customer_demographics.csv',sep=',')\n",
    "df_customer.head()"
   ]
  },
  {
   "cell_type": "code",
   "execution_count": null,
   "metadata": {},
   "outputs": [],
   "source": [
    "df_loans.isna().sum()\n",
    "df_customer.isna().sum()"
   ]
  },
  {
   "cell_type": "code",
   "execution_count": null,
   "metadata": {},
   "outputs": [],
   "source": [
    "num_cols_loans = ['Income','CreditScore','Debt','LoanTerm','InterestRate','CreditIncidents','HomeValue','LoanAmount']\n",
    "df_loans[(np.abs(stats.zscore(df_loans[num_cols_loans])) > 3).all(axis=1)]"
   ]
  },
  {
   "cell_type": "code",
   "execution_count": null,
   "metadata": {},
   "outputs": [],
   "source": [
    "num_cols_customer = ['Age','Income','CreditScore','HouseholdSize','MedianHomeValue','Debt']\n",
    "df_customer[(np.abs(stats.zscore(df_customer[num_cols_customer])) > 3).all(axis=1)]"
   ]
  },
  {
   "cell_type": "code",
   "execution_count": null,
   "metadata": {},
   "outputs": [],
   "source": [
    "df_loans[num_cols_loans].describe()\n",
    "df_customer[num_cols_customer].describe()"
   ]
  },
  {
   "cell_type": "code",
   "execution_count": null,
   "metadata": {},
   "outputs": [],
   "source": [
    "df_loans[num_cols_loans].hist()\n",
    "plt.tight_layout()"
   ]
  },
  {
   "cell_type": "code",
   "execution_count": null,
   "metadata": {},
   "outputs": [],
   "source": [
    "df_customer[num_cols_customer].hist()\n",
    "plt.tight_layout()"
   ]
  },
  {
   "cell_type": "code",
   "execution_count": null,
   "metadata": {},
   "outputs": [],
   "source": [
    "latitudes = df_customer[\"Lat\"]\n",
    "longitudes = df_customer[\"Long\"]\n",
    "\n",
    "locations = np.array(list(zip(latitudes,longitudes)))\n",
    "fig = gmaps.figure()\n",
    "fig.add_layer(gmaps.heatmap_layer(locations))\n",
    "fig"
   ]
  },
  {
   "cell_type": "code",
   "execution_count": null,
   "metadata": {},
   "outputs": [],
   "source": [
    "cols_to_use = df_customer.columns.difference(df_loans.columns).tolist()\n",
    "cols_to_use.append('custid')\n",
    "df = df_loans.merge(df_customer[cols_to_use], on = 'custid')\n",
    "df.head()"
   ]
  },
  {
   "cell_type": "code",
   "execution_count": null,
   "metadata": {},
   "outputs": [],
   "source": [
    "num_features = ['Income','CreditScore','Debt','LoanTerm','InterestRate','CreditIncidents','HomeValue','LoanAmount',\n",
    "               'HouseholdSize','Lat','Long','MedianHomeValue','MedianHouseholdIncome']\n",
    "df_features = df[num_features]\n",
    "df_product_type = pd.get_dummies(df.ProductType,prefix='ProductType')\n",
    "df_features = pd.concat([df_features,df_product_type],axis=1)\n",
    "features = df_features.values\n",
    "targets = np.argmax(pd.get_dummies(df.LoanStatus).values,axis=1)"
   ]
  }
 ],
 "metadata": {
  "kernelspec": {
   "display_name": "Python 3",
   "language": "python",
   "name": "python3"
  },
  "language_info": {
   "codemirror_mode": {
    "name": "ipython",
    "version": 3
   },
   "file_extension": ".py",
   "mimetype": "text/x-python",
   "name": "python",
   "nbconvert_exporter": "python",
   "pygments_lexer": "ipython3",
   "version": "3.8.5"
  }
 },
 "nbformat": 4,
 "nbformat_minor": 4
}
